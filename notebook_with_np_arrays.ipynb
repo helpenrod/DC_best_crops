{
 "cells": [
  {
   "cell_type": "markdown",
   "id": "d3d001b0-2e2f-4b58-8442-99520bad831f",
   "metadata": {},
   "source": [
    "# Sowing Success: How Machine Learning Helps Farmers Select the Best Crops\n",
    "\n",
    "![Farmer in a field](farmer_in_a_field.jpg)\n",
    "\n",
    "Measuring essential soil metrics such as nitrogen, phosphorous, potassium levels, and pH value is an important aspect of assessing soil condition. However, it can be an expensive and time-consuming process, which can cause farmers to prioritize which metrics to measure based on their budget constraints.\n",
    "\n",
    "Farmers have various options when it comes to deciding which crop to plant each season. Their primary objective is to maximize the yield of their crops, taking into account different factors. One crucial factor that affects crop growth is the condition of the soil in the field, which can be assessed by measuring basic elements such as nitrogen and potassium levels. Each crop has an ideal soil condition that ensures optimal growth and maximum yield.\n",
    "\n",
    "A farmer reached out to you as a machine learning expert for assistance in selecting the best crop for his field. They've provided you with a dataset called `soil_measures.csv`, which contains:\n",
    "\n",
    "- `\"N\"`: Nitrogen content ratio in the soil\n",
    "- `\"P\"`: Phosphorous content ratio in the soil\n",
    "- `\"K\"`: Potassium content ratio in the soil\n",
    "- `\"pH\"` value of the soil\n",
    "- `\"crop\"`: categorical values that contain various crops (target variable).\n",
    "\n",
    "Each row in this dataset represents various measures of the soil in a particular field. Based on these measurements, the crop specified in the `\"crop\"` column is the optimal choice for that field.  \n",
    "\n",
    "In this project, I will apply machine learning to build a multi-class classification model to predict the type of `\"crop\"`, while using techniques to avoid multicollinearity, which is a concept where two or more features are highly correlated."
   ]
  },
  {
   "cell_type": "code",
   "execution_count": 1,
   "id": "d0eb4f16-5a99-460d-a5ba-706b7ef0bbe7",
   "metadata": {
    "executionCancelledAt": null,
    "executionTime": 47,
    "id": "bA5ajAmk7XH6",
    "lastExecutedAt": 1704448853083,
    "lastScheduledRunId": null,
    "lastSuccessfullyExecutedCode": "# All required libraries are imported here for you.\nimport matplotlib.pyplot as plt\nimport pandas as pd\nfrom sklearn.linear_model import LogisticRegression\nfrom sklearn.model_selection import train_test_split\nimport seaborn as sns\nfrom sklearn.metrics import f1_score\n\n# Load the dataset\ncrops = pd.read_csv(\"soil_measures.csv\")\n"
   },
   "outputs": [],
   "source": [
    "# All required libraries are imported here for you.\n",
    "import matplotlib.pyplot as plt\n",
    "import pandas as pd\n",
    "from sklearn.linear_model import LogisticRegression\n",
    "from sklearn.model_selection import train_test_split\n",
    "import seaborn as sns\n",
    "from sklearn.metrics import f1_score\n",
    "import matplotlib.pyplot as plt\n",
    "import numpy as np\n",
    "\n",
    "# Load the dataset\n",
    "crops = pd.read_csv(\"soil_measures.csv\")\n"
   ]
  },
  {
   "cell_type": "code",
   "execution_count": 2,
   "id": "180e1d47-4475-493d-9647-b761a5607de9",
   "metadata": {
    "executionCancelledAt": null,
    "executionTime": 48,
    "lastExecutedAt": 1704448853132,
    "lastScheduledRunId": null,
    "lastSuccessfullyExecutedCode": "# Counting missing values\nprint(crops.isna().sum().sort_values())",
    "outputsMetadata": {
     "0": {
      "height": 137,
      "type": "stream"
     }
    }
   },
   "outputs": [
    {
     "name": "stdout",
     "output_type": "stream",
     "text": [
      "N       0\n",
      "P       0\n",
      "K       0\n",
      "ph      0\n",
      "crop    0\n",
      "dtype: int64\n"
     ]
    }
   ],
   "source": [
    "# Counting missing values\n",
    "print(crops.isna().sum().sort_values())"
   ]
  },
  {
   "cell_type": "markdown",
   "id": "534ff393-1b5d-4e39-aa1f-054a35477a59",
   "metadata": {},
   "source": [
    "There are no missing values... Lucky me! Let's get the info to obtain the type of data"
   ]
  },
  {
   "cell_type": "code",
   "execution_count": 3,
   "id": "a239dd31-17e1-4473-9e7c-959d2932cdc2",
   "metadata": {
    "executionCancelledAt": null,
    "executionTime": 52,
    "lastExecutedAt": 1704448853184,
    "lastScheduledRunId": null,
    "lastSuccessfullyExecutedCode": "crops.info()",
    "outputsMetadata": {
     "0": {
      "height": 257,
      "type": "stream"
     }
    }
   },
   "outputs": [
    {
     "name": "stdout",
     "output_type": "stream",
     "text": [
      "<class 'pandas.core.frame.DataFrame'>\n",
      "RangeIndex: 2200 entries, 0 to 2199\n",
      "Data columns (total 5 columns):\n",
      " #   Column  Non-Null Count  Dtype  \n",
      "---  ------  --------------  -----  \n",
      " 0   N       2200 non-null   int64  \n",
      " 1   P       2200 non-null   int64  \n",
      " 2   K       2200 non-null   int64  \n",
      " 3   ph      2200 non-null   float64\n",
      " 4   crop    2200 non-null   object \n",
      "dtypes: float64(1), int64(3), object(1)\n",
      "memory usage: 86.1+ KB\n"
     ]
    }
   ],
   "source": [
    "crops.info()"
   ]
  },
  {
   "cell_type": "markdown",
   "id": "f1cdf6aa-8b21-46d6-aeb0-9d618d26fcc2",
   "metadata": {},
   "source": [
    "Thus, everything is numeric, except for the target variable. I was expecting this one to be string, however is classified as an object... Let's determine the number of crops"
   ]
  },
  {
   "cell_type": "code",
   "execution_count": 4,
   "id": "3554d798-84c9-4967-9ab7-f64cc28270af",
   "metadata": {
    "executionCancelledAt": null,
    "executionTime": 52,
    "lastExecutedAt": 1704448853236,
    "lastScheduledRunId": null,
    "lastSuccessfullyExecutedCode": "crops['crop'].nunique()"
   },
   "outputs": [
    {
     "data": {
      "text/plain": [
       "22"
      ]
     },
     "execution_count": 4,
     "metadata": {},
     "output_type": "execute_result"
    }
   ],
   "source": [
    "crops['crop'].nunique()"
   ]
  },
  {
   "cell_type": "code",
   "execution_count": 5,
   "id": "82aca3fa-7af4-4a1d-93e8-ed4303a6b405",
   "metadata": {
    "executionCancelledAt": null,
    "executionTime": 52,
    "lastExecutedAt": 1704448853288,
    "lastScheduledRunId": null,
    "lastSuccessfullyExecutedCode": "crops['crop'].value_counts()"
   },
   "outputs": [
    {
     "data": {
      "text/plain": [
       "rice           100\n",
       "maize          100\n",
       "jute           100\n",
       "cotton         100\n",
       "coconut        100\n",
       "papaya         100\n",
       "orange         100\n",
       "apple          100\n",
       "muskmelon      100\n",
       "watermelon     100\n",
       "grapes         100\n",
       "mango          100\n",
       "banana         100\n",
       "pomegranate    100\n",
       "lentil         100\n",
       "blackgram      100\n",
       "mungbean       100\n",
       "mothbeans      100\n",
       "pigeonpeas     100\n",
       "kidneybeans    100\n",
       "chickpea       100\n",
       "coffee         100\n",
       "Name: crop, dtype: int64"
      ]
     },
     "execution_count": 5,
     "metadata": {},
     "output_type": "execute_result"
    }
   ],
   "source": [
    "crops['crop'].value_counts()"
   ]
  },
  {
   "cell_type": "markdown",
   "id": "9f195f72-3dcd-4c9a-b9a4-7b7a6588f25d",
   "metadata": {},
   "source": [
    "Now we know that we have 22 diferent types of crops with 100 entries each. Let's make sure that all the values are distinct."
   ]
  },
  {
   "cell_type": "code",
   "execution_count": 6,
   "id": "db9cf5a8-e76a-4260-a5f5-cfbd994b8b85",
   "metadata": {
    "executionCancelledAt": null,
    "executionTime": 52,
    "lastExecutedAt": 1704448853340,
    "lastScheduledRunId": null,
    "lastSuccessfullyExecutedCode": "crops = crops.drop_duplicates()\ncrops.shape"
   },
   "outputs": [
    {
     "data": {
      "text/plain": [
       "(2200, 5)"
      ]
     },
     "execution_count": 6,
     "metadata": {},
     "output_type": "execute_result"
    }
   ],
   "source": [
    "crops = crops.drop_duplicates()\n",
    "crops.shape"
   ]
  },
  {
   "cell_type": "markdown",
   "id": "e8b325a5-517e-4525-b01b-567d8dd55e96",
   "metadata": {},
   "source": [
    "The shape is the same so now we know that we didn't have duplicate rows.\n",
    "Now, let's split the data"
   ]
  },
  {
   "cell_type": "code",
   "execution_count": 7,
   "id": "9a64070b-af79-45b9-9c08-1e0a4b8378e2",
   "metadata": {
    "executionCancelledAt": null,
    "executionTime": 55,
    "lastExecutedAt": 1704448853395,
    "lastScheduledRunId": null,
    "lastSuccessfullyExecutedCode": "X = crops.drop(['crop'],axis=1).values\ny = crops['crop'].values\nX_train, X_test, y_train, y_test = train_test_split(X,y,test_size=0.2,random_state=42)"
   },
   "outputs": [],
   "source": [
    "X = crops.drop(['crop'],axis=1).values\n",
    "y = crops['crop'].values\n",
    "X_train, X_test, y_train, y_test = train_test_split(X,y,test_size=0.2,random_state=42)"
   ]
  },
  {
   "cell_type": "code",
   "execution_count": 8,
   "id": "f98da373-8285-41a9-b0f7-40f0aa18763f",
   "metadata": {
    "executionCancelledAt": null,
    "executionTime": 51,
    "lastExecutedAt": 1704448853447,
    "lastScheduledRunId": null,
    "lastSuccessfullyExecutedCode": "def feat_score(feat_train,feat_test,y_train,y_test):\n    #This function train and test a Logistic Regression model \n    #and returns the f1 score\n    logreg = LogisticRegression(max_iter=2000,multi_class='multinomial')\n    logreg.fit(feat_train,y_train)\n    y_pred=logreg.predict(feat_test)\n    return (f1_score(y_test,y_pred,average='weighted'),logreg)"
   },
   "outputs": [],
   "source": [
    "def feat_score(feat_train,feat_test,y_train,y_test):\n",
    "    #This function train and test a Logistic Regression model \n",
    "    #and returns the f1 score\n",
    "    logreg = LogisticRegression(max_iter=2000,multi_class='multinomial')\n",
    "    logreg.fit(feat_train,y_train)\n",
    "    y_pred=logreg.predict(feat_test)\n",
    "    return (logreg,f1_score(y_test,y_pred,average='weighted'),y_pred)"
   ]
  },
  {
   "cell_type": "code",
   "execution_count": 9,
   "id": "3b6004d1-1d31-4932-8959-b4934609acd9",
   "metadata": {
    "executionCancelledAt": null,
    "executionTime": null,
    "jupyter": {
     "outputs_hidden": false,
     "source_hidden": false
    },
    "lastExecutedAt": null,
    "lastScheduledRunId": null,
    "lastSuccessfullyExecutedCode": null,
    "outputsMetadata": {
     "0": {
      "height": 57,
      "type": "stream"
     }
    }
   },
   "outputs": [
    {
     "name": "stdout",
     "output_type": "stream",
     "text": [
      "[0.10187518380875378, 0.12816696343647532, 0.2085093790893408, 0.04532731061152114]\n"
     ]
    },
    {
     "name": "stderr",
     "output_type": "stream",
     "text": [
      "/usr/lib/python3/dist-packages/sklearn/linear_model/_logistic.py:458: ConvergenceWarning: lbfgs failed to converge (status=1):\n",
      "STOP: TOTAL NO. of ITERATIONS REACHED LIMIT.\n",
      "\n",
      "Increase the number of iterations (max_iter) or scale the data as shown in:\n",
      "    https://scikit-learn.org/stable/modules/preprocessing.html\n",
      "Please also refer to the documentation for alternative solver options:\n",
      "    https://scikit-learn.org/stable/modules/linear_model.html#logistic-regression\n",
      "  n_iter_i = _check_optimize_result(\n"
     ]
    }
   ],
   "source": [
    "scores = []\n",
    "for no_feat in range(X.shape[1]):\n",
    "    feat_train=X_train[:,no_feat].reshape(-1, 1)\n",
    "    feat_test=X_test[:,no_feat].reshape(-1, 1)\n",
    "    scores.append(feat_score(feat_train,feat_test,y_train,y_test)[1])\n",
    "print(scores)"
   ]
  },
  {
   "cell_type": "markdown",
   "id": "d695b1f4-2103-4434-90bc-c29883a75828",
   "metadata": {},
   "source": [
    "Those are very low scores!!!!! Let's analyze the correlation between variables"
   ]
  },
  {
   "cell_type": "code",
   "execution_count": 10,
   "id": "8abc24a5-5992-44e9-8080-095266219a6f",
   "metadata": {
    "executionCancelledAt": null,
    "executionTime": 93,
    "lastExecutedAt": 1704448851724,
    "lastScheduledRunId": null,
    "lastSuccessfullyExecutedCode": "print(crops.iloc[:,:4].corr())",
    "outputsMetadata": {
     "0": {
      "height": 117,
      "type": "stream"
     }
    }
   },
   "outputs": [
    {
     "name": "stdout",
     "output_type": "stream",
     "text": [
      "           N         P         K        ph\n",
      "N   1.000000 -0.231460 -0.140512  0.096683\n",
      "P  -0.231460  1.000000  0.736232 -0.138019\n",
      "K  -0.140512  0.736232  1.000000 -0.169503\n",
      "ph  0.096683 -0.138019 -0.169503  1.000000\n"
     ]
    }
   ],
   "source": [
    "print(crops.iloc[:,:4].corr())"
   ]
  },
  {
   "cell_type": "markdown",
   "id": "a2edd1e6-8ef9-4fd3-a6b6-7c8116edd991",
   "metadata": {},
   "source": [
    "It looks like there exists an strong correlation between P and K variables. Since the score obtained for the feature K is higher, I will remove P from the analysis."
   ]
  },
  {
   "cell_type": "code",
   "execution_count": 11,
   "id": "ce19e5b8-f794-4abe-af4b-0eb9087be7fb",
   "metadata": {
    "executionCancelledAt": null,
    "executionTime": 1252,
    "lastExecutedAt": 1704448852976,
    "lastScheduledRunId": null,
    "lastSuccessfullyExecutedCode": "X_train_final = X_train[:,[0,2,3]]\nX_test_final = X_test[:,[0,2,3]]\nmodel_performance,log_reg = feat_score(X_train_final,X_test_final,y_train,y_test)\nprint(model_performance)",
    "outputsMetadata": {
     "0": {
      "height": 37,
      "type": "stream"
     }
    }
   },
   "outputs": [
    {
     "name": "stdout",
     "output_type": "stream",
     "text": [
      "Model performance 0.5784421341470544\n"
     ]
    },
    {
     "name": "stderr",
     "output_type": "stream",
     "text": [
      "/usr/lib/python3/dist-packages/sklearn/linear_model/_logistic.py:458: ConvergenceWarning: lbfgs failed to converge (status=1):\n",
      "STOP: TOTAL NO. of ITERATIONS REACHED LIMIT.\n",
      "\n",
      "Increase the number of iterations (max_iter) or scale the data as shown in:\n",
      "    https://scikit-learn.org/stable/modules/preprocessing.html\n",
      "Please also refer to the documentation for alternative solver options:\n",
      "    https://scikit-learn.org/stable/modules/linear_model.html#logistic-regression\n",
      "  n_iter_i = _check_optimize_result(\n"
     ]
    }
   ],
   "source": [
    "X_train_final = X_train[:,[0,2,3]]\n",
    "X_test_final = X_test[:,[0,2,3]]\n",
    "log_reg,model_performance,y_pred = feat_score(X_train_final,X_test_final,y_train,y_test)\n",
    "print('Model performance {}'.format(model_performance))"
   ]
  },
  {
   "cell_type": "markdown",
   "id": "30935f51",
   "metadata": {},
   "source": [
    "I will create a DataFrame with the outputs because it's easier for me to work"
   ]
  },
  {
   "cell_type": "code",
   "execution_count": 12,
   "id": "0a06b009",
   "metadata": {},
   "outputs": [
    {
     "data": {
      "text/html": [
       "<div>\n",
       "<style scoped>\n",
       "    .dataframe tbody tr th:only-of-type {\n",
       "        vertical-align: middle;\n",
       "    }\n",
       "\n",
       "    .dataframe tbody tr th {\n",
       "        vertical-align: top;\n",
       "    }\n",
       "\n",
       "    .dataframe thead th {\n",
       "        text-align: right;\n",
       "    }\n",
       "</style>\n",
       "<table border=\"1\" class=\"dataframe\">\n",
       "  <thead>\n",
       "    <tr style=\"text-align: right;\">\n",
       "      <th></th>\n",
       "      <th>N</th>\n",
       "      <th>K</th>\n",
       "      <th>ph</th>\n",
       "      <th>y_test</th>\n",
       "      <th>y_pred</th>\n",
       "    </tr>\n",
       "  </thead>\n",
       "  <tbody>\n",
       "    <tr>\n",
       "      <th>0</th>\n",
       "      <td>101.0</td>\n",
       "      <td>47.0</td>\n",
       "      <td>6.185053</td>\n",
       "      <td>muskmelon</td>\n",
       "      <td>muskmelon</td>\n",
       "    </tr>\n",
       "    <tr>\n",
       "      <th>1</th>\n",
       "      <td>98.0</td>\n",
       "      <td>51.0</td>\n",
       "      <td>6.259336</td>\n",
       "      <td>watermelon</td>\n",
       "      <td>muskmelon</td>\n",
       "    </tr>\n",
       "    <tr>\n",
       "      <th>2</th>\n",
       "      <td>59.0</td>\n",
       "      <td>49.0</td>\n",
       "      <td>6.941497</td>\n",
       "      <td>papaya</td>\n",
       "      <td>papaya</td>\n",
       "    </tr>\n",
       "    <tr>\n",
       "      <th>3</th>\n",
       "      <td>44.0</td>\n",
       "      <td>55.0</td>\n",
       "      <td>6.825371</td>\n",
       "      <td>papaya</td>\n",
       "      <td>papaya</td>\n",
       "    </tr>\n",
       "    <tr>\n",
       "      <th>4</th>\n",
       "      <td>30.0</td>\n",
       "      <td>200.0</td>\n",
       "      <td>5.603413</td>\n",
       "      <td>apple</td>\n",
       "      <td>apple</td>\n",
       "    </tr>\n",
       "  </tbody>\n",
       "</table>\n",
       "</div>"
      ],
      "text/plain": [
       "       N      K        ph      y_test     y_pred\n",
       "0  101.0   47.0  6.185053   muskmelon  muskmelon\n",
       "1   98.0   51.0  6.259336  watermelon  muskmelon\n",
       "2   59.0   49.0  6.941497      papaya     papaya\n",
       "3   44.0   55.0  6.825371      papaya     papaya\n",
       "4   30.0  200.0  5.603413       apple      apple"
      ]
     },
     "execution_count": 12,
     "metadata": {},
     "output_type": "execute_result"
    }
   ],
   "source": [
    "data_to_compare = pd.DataFrame(X_test_final,columns=['N','K','ph'])\n",
    "data_to_compare['y_test'] = y_test\n",
    "data_to_compare['y_pred'] = y_pred\n",
    "data_to_compare.head()"
   ]
  },
  {
   "cell_type": "code",
   "execution_count": 13,
   "id": "703e24a4",
   "metadata": {},
   "outputs": [
    {
     "name": "stdout",
     "output_type": "stream",
     "text": [
      "apple        23\n",
      "banana       21\n",
      "blackgram    20\n",
      "chickpea     26\n",
      "coconut      27\n",
      "Name: y_test, dtype: int64\n",
      "apple         8\n",
      "banana       18\n",
      "blackgram    20\n",
      "chickpea     26\n",
      "coconut      27\n",
      "Name: y_pred, dtype: int64\n"
     ]
    }
   ],
   "source": [
    "test_count = data_to_compare['y_test'].value_counts().sort_index()\n",
    "pred_count = data_to_compare['y_pred'].value_counts().sort_index()\n",
    "print(test_count.head())\n",
    "print(pred_count.head())"
   ]
  },
  {
   "cell_type": "code",
   "execution_count": 14,
   "id": "a058abb2",
   "metadata": {},
   "outputs": [
    {
     "data": {
      "image/png": "[encoded data removed]",
      "text/plain": [
       "<Figure size 640x480 with 1 Axes>"
      ]
     },
     "metadata": {},
     "output_type": "display_data"
    }
   ],
   "source": [
    "barwidth = .25\n",
    "crop_names = test_count.index\n",
    "br1 = np.arange(len(crop_names))\n",
    "br2 = [x + barwidth for x in br1]\n",
    "plt.barh(br1,test_count.values,height=barwidth,label='Test Values')\n",
    "plt.barh(br2,pred_count.values,height=barwidth,label='Predicted Values')\n",
    "plt.yticks(range(len(crop_names)), crop_names)\n",
    "plt.legend()\n",
    "plt.title('Comparison between Test and Predicted Values for the number of crops')\n",
    "plt.show()"
   ]
  },
  {
   "cell_type": "markdown",
   "id": "cafce855",
   "metadata": {},
   "source": [
    "Let's analyze the feature behaviour for the cases when test and predicted values match and when they differ"
   ]
  },
  {
   "cell_type": "code",
   "execution_count": 15,
   "id": "319a2e41",
   "metadata": {},
   "outputs": [
    {
     "data": {
      "text/html": [
       "<div>\n",
       "<style scoped>\n",
       "    .dataframe tbody tr th:only-of-type {\n",
       "        vertical-align: middle;\n",
       "    }\n",
       "\n",
       "    .dataframe tbody tr th {\n",
       "        vertical-align: top;\n",
       "    }\n",
       "\n",
       "    .dataframe thead th {\n",
       "        text-align: right;\n",
       "    }\n",
       "</style>\n",
       "<table border=\"1\" class=\"dataframe\">\n",
       "  <thead>\n",
       "    <tr style=\"text-align: right;\">\n",
       "      <th></th>\n",
       "      <th>N</th>\n",
       "      <th>K</th>\n",
       "      <th>ph</th>\n",
       "      <th>y_test</th>\n",
       "      <th>y_pred</th>\n",
       "    </tr>\n",
       "  </thead>\n",
       "  <tbody>\n",
       "    <tr>\n",
       "      <th>0</th>\n",
       "      <td>101.0</td>\n",
       "      <td>47.0</td>\n",
       "      <td>6.185053</td>\n",
       "      <td>muskmelon</td>\n",
       "      <td>muskmelon</td>\n",
       "    </tr>\n",
       "    <tr>\n",
       "      <th>2</th>\n",
       "      <td>59.0</td>\n",
       "      <td>49.0</td>\n",
       "      <td>6.941497</td>\n",
       "      <td>papaya</td>\n",
       "      <td>papaya</td>\n",
       "    </tr>\n",
       "    <tr>\n",
       "      <th>3</th>\n",
       "      <td>44.0</td>\n",
       "      <td>55.0</td>\n",
       "      <td>6.825371</td>\n",
       "      <td>papaya</td>\n",
       "      <td>papaya</td>\n",
       "    </tr>\n",
       "    <tr>\n",
       "      <th>4</th>\n",
       "      <td>30.0</td>\n",
       "      <td>200.0</td>\n",
       "      <td>5.603413</td>\n",
       "      <td>apple</td>\n",
       "      <td>apple</td>\n",
       "    </tr>\n",
       "    <tr>\n",
       "      <th>5</th>\n",
       "      <td>18.0</td>\n",
       "      <td>27.0</td>\n",
       "      <td>4.772386</td>\n",
       "      <td>mango</td>\n",
       "      <td>mango</td>\n",
       "    </tr>\n",
       "  </tbody>\n",
       "</table>\n",
       "</div>"
      ],
      "text/plain": [
       "       N      K        ph     y_test     y_pred\n",
       "0  101.0   47.0  6.185053  muskmelon  muskmelon\n",
       "2   59.0   49.0  6.941497     papaya     papaya\n",
       "3   44.0   55.0  6.825371     papaya     papaya\n",
       "4   30.0  200.0  5.603413      apple      apple\n",
       "5   18.0   27.0  4.772386      mango      mango"
      ]
     },
     "execution_count": 15,
     "metadata": {},
     "output_type": "execute_result"
    }
   ],
   "source": [
    "matches = data_to_compare.query('y_test == y_pred')\n",
    "differences = data_to_compare.query('y_test != y_pred')\n",
    "matches.head()"
   ]
  },
  {
   "cell_type": "code",
   "execution_count": 17,
   "id": "61f7bdc8",
   "metadata": {},
   "outputs": [
    {
     "data": {
      "image/png": "[encoded data removed]",
      "text/plain": [
       "<Figure size 640x480 with 1 Axes>"
      ]
     },
     "metadata": {},
     "output_type": "display_data"
    },
    {
     "data": {
      "image/png": "[encoded data removed]",
      "text/plain": [
       "<Figure size 640x480 with 1 Axes>"
      ]
     },
     "metadata": {},
     "output_type": "display_data"
    },
    {
     "data": {
      "image/png": "[encoded data removed]",
      "text/plain": [
       "<Figure size 640x480 with 1 Axes>"
      ]
     },
     "metadata": {},
     "output_type": "display_data"
    },
    {
     "data": {
      "image/png": "[encoded data removed]",
      "text/plain": [
       "<Figure size 640x480 with 1 Axes>"
      ]
     },
     "metadata": {},
     "output_type": "display_data"
    }
   ],
   "source": [
    "ax = plt.figure().add_subplot(321,projection='3d')\n",
    "ax.view_init(elev=90, azim=0)\n",
    "ax.scatter(matches['N'],matches['K'],matches['ph'],c=matches['ph'])\n",
    "ax.set_xlabel('N')\n",
    "ax.set_ylabel('K')\n",
    "ax.set_title('Differences')\n",
    "ax = plt.figure().add_subplot(322,projection='3d')\n",
    "ax.view_init(elev=90, azim=0)\n",
    "ax.scatter(differences['N'],differences['K'],differences['ph'],c=differences['ph'])\n",
    "ax.set_xlabel('N')\n",
    "ax.set_ylabel('K')\n",
    "#\n",
    "ax = plt.figure().add_subplot(323,projection='3d')\n",
    "ax.view_init(elev=90, azim=0)\n",
    "ax.scatter(matches['N'],matches['ph'],matches['K'],c=matches['K'])\n",
    "ax.set_xlabel('N')\n",
    "ax.set_ylabel('ph')\n",
    "ax = plt.figure().add_subplot(324,projection='3d')\n",
    "ax.view_init(elev=90, azim=0)\n",
    "ax.scatter(differences['N'],differences['ph'],differences['K'],c=differences['K'])\n",
    "ax.set_xlabel('N')\n",
    "ax.set_ylabel('ph')\n",
    "plt.show()"
   ]
  },
  {
   "cell_type": "code",
   "execution_count": null,
   "id": "9405e89d",
   "metadata": {},
   "outputs": [],
   "source": []
  },
  {
   "cell_type": "code",
   "execution_count": null,
   "id": "4b9b10f1",
   "metadata": {},
   "outputs": [],
   "source": []
  }
 ],
 "metadata": {
  "colab": {
   "name": "Welcome to DataCamp Workspaces.ipynb",
   "provenance": []
  },
  "kernelspec": {
   "display_name": "Python 3 (ipykernel)",
   "language": "python",
   "name": "python3"
  },
  "language_info": {
   "codemirror_mode": {
    "name": "ipython",
    "version": 3
   },
   "file_extension": ".py",
   "mimetype": "text/x-python",
   "name": "python",
   "nbconvert_exporter": "python",
   "pygments_lexer": "ipython3",
   "version": "3.11.4"
  }
 },
 "nbformat": 4,
 "nbformat_minor": 5
}
